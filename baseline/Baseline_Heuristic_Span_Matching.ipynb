{
 "cells": [
  {
   "cell_type": "code",
   "execution_count": 3,
   "metadata": {},
   "outputs": [],
   "source": [
    "import pandas as pd\n",
    "import re\n",
    "import ast"
   ]
  },
  {
   "cell_type": "code",
   "execution_count": 5,
   "metadata": {},
   "outputs": [],
   "source": [
    "DATA_PATH = \"../nbme-score-clinical-patient-notes/\"\n",
    "\n",
    "features_df = pd.read_csv(f\"{DATA_PATH}features.csv\")\n",
    "notes_df = pd.read_csv(f\"{DATA_PATH}patient_notes.csv\")\n",
    "train_df_raw = pd.read_csv(f\"{DATA_PATH}train.csv\")\n",
    "\n",
    "df = train_df_raw.merge(features_df, on=['case_num', 'feature_num'], how='left')\n",
    "df = df.merge(notes_df, on=['case_num', 'pn_num'], how='left')"
   ]
  },
  {
   "cell_type": "code",
   "execution_count": 26,
   "metadata": {},
   "outputs": [],
   "source": [
    "def simple_token_match(row):\n",
    "    tokens = re.findall(r'\\w+', row[\"feature_text\"].lower())\n",
    "    pn_lower = row[\"pn_history\"].lower()\n",
    "\n",
    "    matched_spans = []\n",
    "\n",
    "    for token in tokens:\n",
    "        for match in re.finditer(re.escape(token), pn_lower):\n",
    "            start = match.start()\n",
    "            end = match.end()\n",
    "            matched_spans.append(f\"{start} {end}\")\n",
    "\n",
    "    return matched_spans"
   ]
  },
  {
   "cell_type": "code",
   "execution_count": 27,
   "metadata": {},
   "outputs": [],
   "source": [
    "def phrase_match(row):\n",
    "    phrase = row[\"feature_text\"].lower()\n",
    "    pn_lower = row[\"pn_history\"].lower()\n",
    "\n",
    "    matched_spans = []\n",
    "\n",
    "    for match in re.finditer(re.escape(phrase), pn_lower):\n",
    "        start = match.start()\n",
    "        end = match.end()\n",
    "        matched_spans.append(f\"{start} {end}\")\n",
    "\n",
    "    return matched_spans"
   ]
  },
  {
   "cell_type": "code",
   "execution_count": 31,
   "metadata": {},
   "outputs": [],
   "source": [
    "def parse_spans(span_list):\n",
    "    if isinstance(span_list, str):\n",
    "        try:\n",
    "            span_list = ast.literal_eval(span_list)\n",
    "        except:\n",
    "            return set()\n",
    "\n",
    "    if not isinstance(span_list, list):\n",
    "        return set()\n",
    "\n",
    "    result = set()\n",
    "    for span in span_list:\n",
    "        # Beispiel: \"126 131;143 151\"\n",
    "        for part in span.split(\";\"):\n",
    "            try:\n",
    "                start, end = map(int, part.strip().split())\n",
    "                result.update(range(start, end))\n",
    "            except:\n",
    "                continue\n",
    "    return result"
   ]
  },
  {
   "cell_type": "code",
   "execution_count": 32,
   "metadata": {},
   "outputs": [],
   "source": [
    "def jaccard_score(pred_spans, true_spans):\n",
    "    pred_tokens = parse_spans(pred_spans)\n",
    "    true_tokens = parse_spans(true_spans)\n",
    "\n",
    "    if not pred_tokens and not true_tokens:\n",
    "        return 1.0\n",
    "\n",
    "    intersection = len(pred_tokens & true_tokens)\n",
    "    union = len(pred_tokens | true_tokens)\n",
    "\n",
    "    if union == 0:\n",
    "        return 0.0\n",
    "\n",
    "    return intersection / union"
   ]
  },
  {
   "cell_type": "code",
   "execution_count": 33,
   "metadata": {},
   "outputs": [
    {
     "name": "stdout",
     "output_type": "stream",
     "text": [
      "📊 Mean Jaccard Score (Soft Token Matching):   0.2945\n",
      "📊 Mean Jaccard Score (Phrase Matching):       0.3572\n"
     ]
    }
   ],
   "source": [
    "df[\"location_pred_token\"] = df.apply(simple_token_match, axis=1)\n",
    "df[\"location_pred_phrase\"] = df.apply(phrase_match, axis=1)\n",
    "\n",
    "df[\"jaccard_token\"] = df.apply(lambda row: jaccard_score(row[\"location_pred_token\"], row[\"location\"]), axis=1)\n",
    "df[\"jaccard_phrase\"] = df.apply(lambda row: jaccard_score(row[\"location_pred_phrase\"], row[\"location\"]), axis=1)\n",
    "\n",
    "print(f\"📊 Mean Jaccard Score (Soft Token Matching):   {df['jaccard_token'].mean():.4f}\")\n",
    "print(f\"📊 Mean Jaccard Score (Phrase Matching):       {df['jaccard_phrase'].mean():.4f}\")"
   ]
  }
 ],
 "metadata": {
  "kernelspec": {
   "display_name": "finetune",
   "language": "python",
   "name": "python3"
  },
  "language_info": {
   "codemirror_mode": {
    "name": "ipython",
    "version": 3
   },
   "file_extension": ".py",
   "mimetype": "text/x-python",
   "name": "python",
   "nbconvert_exporter": "python",
   "pygments_lexer": "ipython3",
   "version": "3.12.3"
  }
 },
 "nbformat": 4,
 "nbformat_minor": 2
}
